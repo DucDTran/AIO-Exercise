{
  "cells": [
    {
      "cell_type": "code",
      "execution_count": 2,
      "metadata": {
        "colab": {
          "base_uri": "https://localhost:8080/"
        },
        "id": "7_tzrV4SbYWb",
        "outputId": "4c982927-a18a-4abb-8c14-3e05188b0c7c"
      },
      "outputs": [
        {
          "name": "stdout",
          "output_type": "stream",
          "text": [
            "Collecting unidecode\n",
            "  Downloading Unidecode-1.4.0-py3-none-any.whl.metadata (13 kB)\n",
            "Downloading Unidecode-1.4.0-py3-none-any.whl (235 kB)\n",
            "\u001b[?25l   \u001b[90m━━━━━━━━━━━━━━━━━━━━━━━━━━━━━━━━━━━━━━━━\u001b[0m \u001b[32m0.0/235.8 kB\u001b[0m \u001b[31m?\u001b[0m eta \u001b[36m-:--:--\u001b[0m\r\u001b[2K   \u001b[90m━━━━━━━━━━━━━━━━━━━━━━━━━━━━━━━━━━━━━━━━\u001b[0m \u001b[32m235.8/235.8 kB\u001b[0m \u001b[31m7.5 MB/s\u001b[0m eta \u001b[36m0:00:00\u001b[0m\n",
            "\u001b[?25hInstalling collected packages: unidecode\n",
            "Successfully installed unidecode-1.4.0\n"
          ]
        }
      ],
      "source": [
        "!pip install unidecode"
      ]
    },
    {
      "cell_type": "code",
      "execution_count": 3,
      "metadata": {
        "colab": {
          "base_uri": "https://localhost:8080/"
        },
        "id": "bw5gCVFOamBd",
        "outputId": "2b6d7e76-181c-40a6-c8b3-6ba75a1cf3e1"
      },
      "outputs": [
        {
          "name": "stderr",
          "output_type": "stream",
          "text": [
            "[nltk_data] Downloading package stopwords to /root/nltk_data...\n",
            "[nltk_data]   Unzipping corpora/stopwords.zip.\n"
          ]
        }
      ],
      "source": [
        "import torch\n",
        "import torch.nn as nn\n",
        "\n",
        "seed = 1\n",
        "torch.manual_seed(seed)\n",
        "\n",
        "import os\n",
        "import numpy as np\n",
        "import pandas as pd\n",
        "import matplotlib.pyplot as plt\n",
        "import re\n",
        "import nltk\n",
        "import unidecode\n",
        "\n",
        "nltk.download('stopwords')\n",
        "from nltk.corpus import stopwords\n",
        "from nltk.stem.porter import PorterStemmer\n",
        "\n",
        "from torch.utils.data import Dataset, DataLoader\n",
        "from sklearn.model_selection import train_test_split"
      ]
    },
    {
      "cell_type": "code",
      "execution_count": 4,
      "metadata": {
        "colab": {
          "base_uri": "https://localhost:8080/"
        },
        "id": "OpR-sDNEbQY2",
        "outputId": "38be49bf-2a36-4551-e926-ee348669cb15"
      },
      "outputs": [
        {
          "name": "stdout",
          "output_type": "stream",
          "text": [
            "Downloading...\n",
            "From: https://drive.google.com/uc?id=1uYXI4O3oWBA6QC8ZJ-r6yaTTfkdAnl_Q\n",
            "To: /content/dataset.zip\n",
            "\r  0% 0.00/230k [00:00<?, ?B/s]\r100% 230k/230k [00:00<00:00, 3.95MB/s]\n"
          ]
        }
      ],
      "source": [
        "!gdown 1uYXI4O3oWBA6QC8ZJ-r6yaTTfkdAnl_Q"
      ]
    },
    {
      "cell_type": "code",
      "execution_count": 5,
      "metadata": {
        "colab": {
          "base_uri": "https://localhost:8080/"
        },
        "id": "HOeS95gQbfRw",
        "outputId": "00c347e7-4936-44fa-d0fc-63c9ae1332a6"
      },
      "outputs": [
        {
          "name": "stdout",
          "output_type": "stream",
          "text": [
            "Archive:  /content/dataset.zip\n",
            "   creating: /content/dataset/\n",
            "  inflating: /content/dataset/all-data.csv  \n"
          ]
        }
      ],
      "source": [
        "!unzip /content/dataset.zip -d /content"
      ]
    },
    {
      "cell_type": "code",
      "execution_count": 6,
      "metadata": {
        "id": "wUDPnaRjbh0j"
      },
      "outputs": [],
      "source": [
        "dataset_path = 'dataset/all-data.csv'\n",
        "headers = ['sentiment', 'content']\n",
        "df = pd.read_csv(\n",
        "    dataset_path,\n",
        "    names=headers,\n",
        "    encoding='ISO-8859-1'\n",
        ")"
      ]
    },
    {
      "cell_type": "code",
      "execution_count": 7,
      "metadata": {
        "id": "HzQUwNb6buCU"
      },
      "outputs": [],
      "source": [
        "classes = {\n",
        "    class_name: idx for idx, class_name in enumerate(df['sentiment'].unique().tolist())\n",
        "}\n",
        "df['sentiment'] = df['sentiment'].apply(\n",
        "    lambda sentiment: classes[sentiment]\n",
        ")"
      ]
    },
    {
      "cell_type": "code",
      "execution_count": 8,
      "metadata": {
        "id": "MUoN-vdhb_eE"
      },
      "outputs": [],
      "source": [
        "english_stop_words = stopwords.words('english')\n",
        "stemmer = PorterStemmer()\n",
        "\n",
        "def text_normalize(text):\n",
        "    text = text.lower()\n",
        "    text = unidecode.unidecode(text)\n",
        "    text = text.strip()\n",
        "    text = re.sub(r'[^\\w\\s]', '', text)\n",
        "    text = ' '.join([word for word in text.split(' ') if word not in english_stop_words])\n",
        "    text = ' '.join([stemmer.stem(word) for word in text.split(' ')])\n",
        "\n",
        "    return text"
      ]
    },
    {
      "cell_type": "code",
      "execution_count": 9,
      "metadata": {
        "id": "x8DDnzHfcaIX"
      },
      "outputs": [],
      "source": [
        "df['content'] = df['content'].apply(\n",
        "    lambda content: text_normalize(content)\n",
        ")"
      ]
    },
    {
      "cell_type": "code",
      "execution_count": 10,
      "metadata": {
        "id": "7xeK1hxUceT-"
      },
      "outputs": [],
      "source": [
        "vocab = []\n",
        "\n",
        "for sentence in df['content'].tolist():\n",
        "    tokens = sentence.split()\n",
        "    for token in tokens:\n",
        "        if token not in vocab:\n",
        "            vocab.append(token)\n",
        "\n",
        "vocab.append('UNK')\n",
        "vocab.append('PAD')\n",
        "word_to_idx = {word: idx for idx, word in enumerate(vocab)}\n",
        "vocab_size = len(vocab)"
      ]
    },
    {
      "cell_type": "code",
      "execution_count": 11,
      "metadata": {
        "id": "8VNqVlz8ebQU"
      },
      "outputs": [],
      "source": [
        "def transform(text, word_to_idx, max_seq_len):\n",
        "    tokens = []\n",
        "    for w in text.split():\n",
        "        try:\n",
        "            w_ids = word_to_idx[w]\n",
        "        except:\n",
        "            w_ids = word_to_idx['UNK']\n",
        "        tokens.append(w_ids)\n",
        "\n",
        "    if len(tokens) < max_seq_len:\n",
        "        tokens += [word_to_idx['PAD']] * (max_seq_len - len(tokens))\n",
        "    elif len(tokens) > max_seq_len:\n",
        "        tokens = tokens[:max_seq_len]\n",
        "\n",
        "    return tokens"
      ]
    },
    {
      "cell_type": "code",
      "execution_count": 12,
      "metadata": {
        "id": "EHfMwMLye0-X"
      },
      "outputs": [],
      "source": [
        "val_size = 0.2\n",
        "test_size = 0.125\n",
        "is_shuffle = True\n",
        "texts = df['content'].tolist()\n",
        "labels = df['sentiment'].tolist()\n",
        "\n",
        "X_train, X_val, y_train, y_val = train_test_split(\n",
        "    texts,\n",
        "    labels,\n",
        "    test_size=val_size,\n",
        "    shuffle=is_shuffle,\n",
        "    random_state=seed\n",
        ")\n",
        "\n",
        "X_train, X_test, y_train, y_test = train_test_split(\n",
        "    texts,\n",
        "    labels,\n",
        "    test_size=test_size,\n",
        "    shuffle=is_shuffle,\n",
        "    random_state=seed\n",
        ")"
      ]
    },
    {
      "cell_type": "code",
      "execution_count": 13,
      "metadata": {
        "id": "LWcYx84afOnj"
      },
      "outputs": [],
      "source": [
        "class FinancialNews(Dataset):\n",
        "    def __init__(self, X, y, word_to_idx, max_seq_len, transform=None):\n",
        "        self.texts = X\n",
        "        self.labels = y\n",
        "        self.word_to_idx = word_to_idx\n",
        "        self.max_seq_len = max_seq_len\n",
        "        self.transform = transform\n",
        "\n",
        "    def __len__(self):\n",
        "        return len(self.texts)\n",
        "\n",
        "    def __getitem__(self, idx):\n",
        "        text = self.texts[idx]\n",
        "        label = self.labels[idx]\n",
        "\n",
        "        if self.transform:\n",
        "            text = self.transform(\n",
        "                text,\n",
        "                self.word_to_idx,\n",
        "                self.max_seq_len\n",
        "            )\n",
        "        text = torch.tensor(text)\n",
        "\n",
        "        return text, label"
      ]
    },
    {
      "cell_type": "code",
      "execution_count": 14,
      "metadata": {
        "id": "I2hZF1wifrNf"
      },
      "outputs": [],
      "source": [
        "max_seq_len = 32\n",
        "\n",
        "train_dataset = FinancialNews(\n",
        "    X_train, y_train,\n",
        "    word_to_idx = word_to_idx,\n",
        "    max_seq_len = max_seq_len,\n",
        "    transform=transform\n",
        ")\n",
        "\n",
        "val_dataset = FinancialNews(\n",
        "    X_val, y_val,\n",
        "    word_to_idx = word_to_idx,\n",
        "    max_seq_len = max_seq_len,\n",
        "    transform=transform\n",
        ")\n",
        "\n",
        "test_dataset = FinancialNews(\n",
        "    X_test, y_test,\n",
        "    word_to_idx = word_to_idx,\n",
        "    max_seq_len = max_seq_len,\n",
        "    transform=transform\n",
        ")\n",
        "\n",
        "train_batch_size = 128\n",
        "test_batch_size = 8\n",
        "\n",
        "train_loader = DataLoader(\n",
        "    train_dataset,\n",
        "    batch_size=train_batch_size,\n",
        "    shuffle=True,\n",
        ")\n",
        "val_loader = DataLoader(\n",
        "    val_dataset,\n",
        "    batch_size=test_batch_size,\n",
        "    shuffle=False,\n",
        ")\n",
        "test_loader = DataLoader(\n",
        "    test_dataset,\n",
        "    batch_size=test_batch_size,\n",
        "    shuffle=False,\n",
        ")"
      ]
    },
    {
      "cell_type": "code",
      "execution_count": 15,
      "metadata": {
        "id": "-r614cfMgXxE"
      },
      "outputs": [],
      "source": [
        "class SentimentClassifier(nn.Module):\n",
        "    def __init__(\n",
        "        self, vocab_size, embedding_dim,\n",
        "        hidden_size, n_layers, n_classes, dropout_prob):\n",
        "        super(SentimentClassifier, self).__init__()\n",
        "        self.embedding = nn.Embedding(vocab_size, embedding_dim)\n",
        "        self.rnn = nn.RNN(\n",
        "            embedding_dim, hidden_size, n_layers, batch_first=True)\n",
        "        self.norm = nn.LayerNorm(hidden_size)\n",
        "        self.dropout = nn.Dropout(dropout_prob)\n",
        "        self.fc1 = nn.Linear(hidden_size, 16)\n",
        "        self.relu = nn.ReLU()\n",
        "        self.fc2 = nn.Linear(16, n_classes)\n",
        "\n",
        "    def forward(self, x):\n",
        "        x = self.embedding(x)\n",
        "        x, hn = self.rnn(x)\n",
        "        x = x[:, -1, :]\n",
        "        x = self.norm(x)\n",
        "        x = self.dropout(x)\n",
        "        x = self.fc1(x)\n",
        "        x = self.relu(x)\n",
        "        x = self.fc2(x)\n",
        "\n",
        "        return x"
      ]
    },
    {
      "cell_type": "code",
      "execution_count": 16,
      "metadata": {
        "id": "JIW-pVM9i7qA"
      },
      "outputs": [],
      "source": [
        "n_classes = len(list(classes.keys()))\n",
        "embedding_dim = 64\n",
        "hidden_size = 64\n",
        "n_layers = 2\n",
        "dropout_prob = 0.2\n",
        "device = 'cuda' if torch.cuda.is_available() else 'cpu'\n",
        "\n",
        "model = SentimentClassifier(\n",
        "    vocab_size=vocab_size,\n",
        "    embedding_dim=embedding_dim,\n",
        "    hidden_size=hidden_size,\n",
        "    n_layers=n_layers,\n",
        "    n_classes=n_classes,\n",
        "    dropout_prob=dropout_prob\n",
        ").to(device)\n",
        "\n",
        "lr = 1e-4\n",
        "epochs = 50\n",
        "\n",
        "criterion = nn.CrossEntropyLoss()\n",
        "optimizer = torch.optim.Adam(model.parameters(), lr=lr)"
      ]
    },
    {
      "cell_type": "code",
      "execution_count": 21,
      "metadata": {
        "id": "VKcw6G7cikWx"
      },
      "outputs": [],
      "source": [
        "def fit(\n",
        "    model, train_loader, val_loader,\n",
        "    criterion, optimizer, device, epochs\n",
        "):\n",
        "    train_losses = []\n",
        "    val_losses = []\n",
        "\n",
        "    for epoch in range(epochs):\n",
        "        batch_train_losses = []\n",
        "        model.train()\n",
        "        for idx, (inputs, labels) in enumerate(train_loader):\n",
        "            inputs = inputs.to(device)\n",
        "            labels = labels.to(device)\n",
        "\n",
        "            optimizer.zero_grad()\n",
        "            outputs = model(inputs)\n",
        "            loss = criterion(outputs, labels)\n",
        "            loss.backward()\n",
        "            optimizer.step()\n",
        "\n",
        "            batch_train_losses.append(loss.item())\n",
        "\n",
        "        train_loss = np.mean(batch_train_losses)\n",
        "        train_losses.append(train_loss)\n",
        "\n",
        "        val_loss, val_acc = evaluate(\n",
        "            model, val_loader, criterion, device\n",
        "        )\n",
        "        val_losses.append(val_loss)\n",
        "        print(f'EPOCH {epoch + 1}: Train loss {train_loss:.4f} Val loss: {val_loss:.4f}')\n",
        "\n",
        "    return train_losses, val_losses\n",
        "\n",
        "def evaluate(model, dataloader, criterion, device, ):\n",
        "    model.eval()\n",
        "    correct = 0\n",
        "    total = 0\n",
        "    losses = []\n",
        "    with torch.no_grad():\n",
        "        for inputs, labels in dataloader:\n",
        "            inputs, labels = inputs.to(device), labels.to(device)\n",
        "            outputs = model(inputs)\n",
        "            loss = criterion(outputs, labels)\n",
        "            losses.append(loss.item())\n",
        "            _, predicted = torch.max(outputs.data, 1)\n",
        "            total += labels.size(0)\n",
        "            correct += (predicted == labels).sum().item()\n",
        "\n",
        "    val_loss = np.mean(losses)\n",
        "    val_acc = correct / total\n",
        "\n",
        "    return val_loss, val_acc"
      ]
    },
    {
      "cell_type": "code",
      "execution_count": 22,
      "metadata": {
        "colab": {
          "base_uri": "https://localhost:8080/"
        },
        "id": "p3bVDaCpkW_U",
        "outputId": "1efdbc33-c98c-4ea3-cb84-012b1888916a"
      },
      "outputs": [
        {
          "name": "stdout",
          "output_type": "stream",
          "text": [
            "EPOCH 1: Train loss 0.7975 Val loss: 0.8521\n",
            "EPOCH 2: Train loss 0.8034 Val loss: 0.8549\n",
            "EPOCH 3: Train loss 0.8147 Val loss: 0.8531\n",
            "EPOCH 4: Train loss 0.7943 Val loss: 0.8455\n",
            "EPOCH 5: Train loss 0.7851 Val loss: 0.8486\n",
            "EPOCH 6: Train loss 0.7809 Val loss: 0.8509\n",
            "EPOCH 7: Train loss 0.7818 Val loss: 0.8432\n",
            "EPOCH 8: Train loss 0.7741 Val loss: 0.8615\n",
            "EPOCH 9: Train loss 0.7778 Val loss: 0.8408\n",
            "EPOCH 10: Train loss 0.7637 Val loss: 0.8387\n",
            "EPOCH 11: Train loss 0.7782 Val loss: 0.8361\n",
            "EPOCH 12: Train loss 0.7781 Val loss: 0.8372\n",
            "EPOCH 13: Train loss 0.7612 Val loss: 0.8383\n",
            "EPOCH 14: Train loss 0.7658 Val loss: 0.8873\n",
            "EPOCH 15: Train loss 0.7503 Val loss: 0.8359\n",
            "EPOCH 16: Train loss 0.7603 Val loss: 0.8433\n",
            "EPOCH 17: Train loss 0.7634 Val loss: 0.8421\n",
            "EPOCH 18: Train loss 0.7510 Val loss: 0.8309\n",
            "EPOCH 19: Train loss 0.7470 Val loss: 0.8359\n",
            "EPOCH 20: Train loss 0.7602 Val loss: 0.8453\n",
            "EPOCH 21: Train loss 0.7358 Val loss: 0.8327\n",
            "EPOCH 22: Train loss 0.7416 Val loss: 0.8410\n",
            "EPOCH 23: Train loss 0.7412 Val loss: 0.8317\n",
            "EPOCH 24: Train loss 0.7296 Val loss: 0.8381\n",
            "EPOCH 25: Train loss 0.7371 Val loss: 0.8489\n",
            "EPOCH 26: Train loss 0.7284 Val loss: 0.8334\n",
            "EPOCH 27: Train loss 0.7316 Val loss: 0.8300\n",
            "EPOCH 28: Train loss 0.7372 Val loss: 0.8377\n",
            "EPOCH 29: Train loss 0.7398 Val loss: 0.8291\n",
            "EPOCH 30: Train loss 0.7162 Val loss: 0.8305\n",
            "EPOCH 31: Train loss 0.7232 Val loss: 0.8251\n",
            "EPOCH 32: Train loss 0.7115 Val loss: 0.8304\n",
            "EPOCH 33: Train loss 0.7054 Val loss: 0.8354\n",
            "EPOCH 34: Train loss 0.7219 Val loss: 0.8406\n",
            "EPOCH 35: Train loss 0.7081 Val loss: 0.8436\n",
            "EPOCH 36: Train loss 0.7128 Val loss: 0.8300\n",
            "EPOCH 37: Train loss 0.7056 Val loss: 0.8341\n",
            "EPOCH 38: Train loss 0.7021 Val loss: 0.8320\n",
            "EPOCH 39: Train loss 0.7001 Val loss: 0.8293\n",
            "EPOCH 40: Train loss 0.7091 Val loss: 0.8357\n",
            "EPOCH 41: Train loss 0.6954 Val loss: 0.8429\n",
            "EPOCH 42: Train loss 0.7081 Val loss: 0.8368\n",
            "EPOCH 43: Train loss 0.7080 Val loss: 0.8293\n",
            "EPOCH 44: Train loss 0.6950 Val loss: 0.8493\n",
            "EPOCH 45: Train loss 0.6996 Val loss: 0.8508\n",
            "EPOCH 46: Train loss 0.7071 Val loss: 0.8339\n",
            "EPOCH 47: Train loss 0.6840 Val loss: 0.8433\n",
            "EPOCH 48: Train loss 0.6863 Val loss: 0.8335\n",
            "EPOCH 49: Train loss 0.6865 Val loss: 0.8634\n",
            "EPOCH 50: Train loss 0.6977 Val loss: 0.8364\n"
          ]
        }
      ],
      "source": [
        "train_losses, val_losses = fit(\n",
        "    model, train_loader, val_loader,\n",
        "    criterion, optimizer, device, epochs\n",
        ")"
      ]
    },
    {
      "cell_type": "code",
      "execution_count": 24,
      "metadata": {
        "colab": {
          "base_uri": "https://localhost:8080/",
          "height": 430
        },
        "id": "Wo-jPy5-mvrj",
        "outputId": "bcef9f82-193c-4b39-9dd6-384f12409f48"
      },
      "outputs": [
        {
          "data": {
            "image/png": "[encoded data removed]",
            "text/plain": [
              "<Figure size 640x480 with 1 Axes>"
            ]
          },
          "metadata": {},
          "output_type": "display_data"
        }
      ],
      "source": [
        "import matplotlib.pyplot as plt\n",
        "\n",
        "# Assuming 'epochs' is an integer (e.g., 50)\n",
        "epoch_range = range(1, epochs + 1)  # Create a range of values for the x-axis\n",
        "\n",
        "plt.plot(epoch_range, train_losses, label='train')\n",
        "plt.plot(epoch_range, val_losses, label='val')\n",
        "plt.legend()\n",
        "plt.show()"
      ]
    },
    {
      "cell_type": "code",
      "execution_count": 25,
      "metadata": {
        "colab": {
          "base_uri": "https://localhost:8080/"
        },
        "id": "f0YW1i6xnkbD",
        "outputId": "0928560e-83d1-4c77-f170-e3338b5c33c4"
      },
      "outputs": [
        {
          "name": "stdout",
          "output_type": "stream",
          "text": [
            "Val loss: 0.8364\n",
            "Test loss: 0.9151\n",
            "Evaluation on val/test dataset\n",
            "Val accuracy: 0.668041237113402\n",
            "Test accuracy: 0.6171617161716172\n"
          ]
        }
      ],
      "source": [
        "val_loss, val_acc = evaluate(\n",
        "    model, val_loader, criterion, device\n",
        ")\n",
        "print(f'Val loss: {val_loss:.4f}')\n",
        "\n",
        "test_loss, test_acc = evaluate(\n",
        "    model, test_loader, criterion, device\n",
        ")\n",
        "print(f'Test loss: {test_loss:.4f}')\n",
        "\n",
        "print('Evaluation on val/test dataset')\n",
        "print('Val accuracy:', val_acc )\n",
        "print('Test accuracy:', test_acc)"
      ]
    },
    {
      "cell_type": "markdown",
      "metadata": {
        "id": "B2X2dXJvoQZC"
      },
      "source": [
        "### LSTM"
      ]
    },
    {
      "cell_type": "code",
      "execution_count": 28,
      "metadata": {
        "id": "fxDIuXDwoOYu"
      },
      "outputs": [],
      "source": [
        "class SentimentClassifierLSTM(nn.Module):\n",
        "    def __init__(\n",
        "        self, vocab_size, embedding_dim,\n",
        "        hidden_size, n_layers, n_classes, dropout_prob):\n",
        "        super(SentimentClassifierLSTM, self).__init__()\n",
        "        self.embedding = nn.Embedding(vocab_size, embedding_dim)\n",
        "        self.rnn = nn.LSTM(\n",
        "            embedding_dim, hidden_size, n_layers, batch_first=True)\n",
        "        self.norm = nn.LayerNorm(hidden_size)\n",
        "        self.dropout = nn.Dropout(dropout_prob)\n",
        "        self.fc1 = nn.Linear(hidden_size, 16)\n",
        "        self.relu = nn.ReLU()\n",
        "        self.fc2 = nn.Linear(16, n_classes)\n",
        "\n",
        "    def forward(self, x):\n",
        "        x = self.embedding(x)\n",
        "        x, hn = self.rnn(x)\n",
        "        x = x[:, -1, :]\n",
        "        x = self.norm(x)\n",
        "        x = self.dropout(x)\n",
        "        x = self.fc1(x)\n",
        "        x = self.relu(x)\n",
        "        x = self.fc2(x)\n",
        "\n",
        "        return x"
      ]
    },
    {
      "cell_type": "code",
      "execution_count": 30,
      "metadata": {
        "id": "wmfHf-nxoZEy"
      },
      "outputs": [],
      "source": [
        "n_classes = len(list(classes.keys()))\n",
        "embedding_dim = 64\n",
        "hidden_size = 64\n",
        "n_layers = 2\n",
        "dropout_prob = 0.2\n",
        "device = 'cuda' if torch.cuda.is_available() else 'cpu'\n",
        "\n",
        "modelLSTM = SentimentClassifierLSTM(\n",
        "    vocab_size=vocab_size,\n",
        "    embedding_dim=embedding_dim,\n",
        "    hidden_size=hidden_size,\n",
        "    n_layers=n_layers,\n",
        "    n_classes=n_classes,\n",
        "    dropout_prob=dropout_prob\n",
        ").to(device)\n",
        "\n",
        "lr = 1e-4\n",
        "epochs = 50\n",
        "\n",
        "criterion = nn.CrossEntropyLoss()\n",
        "optimizer = torch.optim.Adam(modelLSTM.parameters(), lr=lr)"
      ]
    },
    {
      "cell_type": "code",
      "execution_count": 31,
      "metadata": {
        "colab": {
          "base_uri": "https://localhost:8080/"
        },
        "id": "9RUGKP1WolNV",
        "outputId": "974900d8-9381-4706-9e30-2e1410e15357"
      },
      "outputs": [
        {
          "name": "stdout",
          "output_type": "stream",
          "text": [
            "EPOCH 1: Train loss 1.0178 Val loss: 0.9298\n",
            "EPOCH 2: Train loss 0.9323 Val loss: 0.9277\n",
            "EPOCH 3: Train loss 0.9260 Val loss: 0.9272\n",
            "EPOCH 4: Train loss 0.9240 Val loss: 0.9271\n",
            "EPOCH 5: Train loss 0.9236 Val loss: 0.9261\n",
            "EPOCH 6: Train loss 0.9348 Val loss: 0.9278\n",
            "EPOCH 7: Train loss 0.9260 Val loss: 0.9266\n",
            "EPOCH 8: Train loss 0.9318 Val loss: 0.9258\n",
            "EPOCH 9: Train loss 0.9210 Val loss: 0.9258\n",
            "EPOCH 10: Train loss 0.9238 Val loss: 0.9256\n",
            "EPOCH 11: Train loss 0.9238 Val loss: 0.9254\n",
            "EPOCH 12: Train loss 0.9237 Val loss: 0.9244\n",
            "EPOCH 13: Train loss 0.9270 Val loss: 0.9246\n",
            "EPOCH 14: Train loss 0.9238 Val loss: 0.9242\n",
            "EPOCH 15: Train loss 0.9225 Val loss: 0.9217\n",
            "EPOCH 16: Train loss 0.9167 Val loss: 0.9203\n",
            "EPOCH 17: Train loss 0.9134 Val loss: 0.9122\n",
            "EPOCH 18: Train loss 0.8901 Val loss: 0.9094\n",
            "EPOCH 19: Train loss 0.8978 Val loss: 0.8987\n",
            "EPOCH 20: Train loss 0.8943 Val loss: 0.8954\n",
            "EPOCH 21: Train loss 0.8724 Val loss: 0.8926\n",
            "EPOCH 22: Train loss 0.8665 Val loss: 0.8827\n",
            "EPOCH 23: Train loss 0.8629 Val loss: 0.8789\n",
            "EPOCH 24: Train loss 0.8583 Val loss: 0.8753\n",
            "EPOCH 25: Train loss 0.8547 Val loss: 0.8890\n",
            "EPOCH 26: Train loss 0.8477 Val loss: 0.8675\n",
            "EPOCH 27: Train loss 0.8450 Val loss: 0.8669\n",
            "EPOCH 28: Train loss 0.8489 Val loss: 0.8603\n",
            "EPOCH 29: Train loss 0.8289 Val loss: 0.8598\n",
            "EPOCH 30: Train loss 0.8218 Val loss: 0.8642\n",
            "EPOCH 31: Train loss 0.8330 Val loss: 0.8536\n",
            "EPOCH 32: Train loss 0.8181 Val loss: 0.8521\n",
            "EPOCH 33: Train loss 0.8142 Val loss: 0.8531\n",
            "EPOCH 34: Train loss 0.8156 Val loss: 0.8516\n",
            "EPOCH 35: Train loss 0.8032 Val loss: 0.8419\n",
            "EPOCH 36: Train loss 0.8030 Val loss: 0.8468\n",
            "EPOCH 37: Train loss 0.8025 Val loss: 0.8378\n",
            "EPOCH 38: Train loss 0.7915 Val loss: 0.8372\n",
            "EPOCH 39: Train loss 0.7989 Val loss: 0.8374\n",
            "EPOCH 40: Train loss 0.7977 Val loss: 0.8383\n",
            "EPOCH 41: Train loss 0.7885 Val loss: 0.8365\n",
            "EPOCH 42: Train loss 0.7742 Val loss: 0.8215\n",
            "EPOCH 43: Train loss 0.7632 Val loss: 0.8230\n",
            "EPOCH 44: Train loss 0.7618 Val loss: 0.8163\n",
            "EPOCH 45: Train loss 0.7533 Val loss: 0.8168\n",
            "EPOCH 46: Train loss 0.7402 Val loss: 0.8131\n",
            "EPOCH 47: Train loss 0.7366 Val loss: 0.8116\n",
            "EPOCH 48: Train loss 0.7329 Val loss: 0.8073\n",
            "EPOCH 49: Train loss 0.7268 Val loss: 0.8074\n",
            "EPOCH 50: Train loss 0.7181 Val loss: 0.8050\n"
          ]
        }
      ],
      "source": [
        "train_losses, val_losses = fit(\n",
        "    modelLSTM, train_loader, val_loader,\n",
        "    criterion, optimizer, device, epochs\n",
        ")"
      ]
    },
    {
      "cell_type": "code",
      "execution_count": 34,
      "metadata": {
        "id": "wz4U41JEp-0N"
      },
      "outputs": [],
      "source": [
        "# Save the model's state dictionary\n",
        "torch.save(model.state_dict(), 'financial_model_weights.pt')"
      ]
    }
  ],
  "metadata": {
    "colab": {
      "provenance": []
    },
    "kernelspec": {
      "display_name": "base",
      "language": "python",
      "name": "python3"
    },
    "language_info": {
      "name": "python",
      "version": "3.12.7"
    }
  },
  "nbformat": 4,
  "nbformat_minor": 0
}
