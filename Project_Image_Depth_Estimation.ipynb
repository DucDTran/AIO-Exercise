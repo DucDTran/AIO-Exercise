{
  "nbformat": 4,
  "nbformat_minor": 0,
  "metadata": {
    "colab": {
      "provenance": [],
      "authorship_tag": "ABX9TyNFEf5VvtZr4tTOYt6n2YT3",
      "include_colab_link": true
    },
    "kernelspec": {
      "name": "python3",
      "display_name": "Python 3"
    },
    "language_info": {
      "name": "python"
    }
  },
  "cells": [
    {
      "cell_type": "markdown",
      "metadata": {
        "id": "view-in-github",
        "colab_type": "text"
      },
      "source": [
        "<a href=\"https://colab.research.google.com/github/DucDTran/AIO-Exercise/blob/feature%2Fmodule-2-project_image_retrieval/Project_Image_Depth_Estimation.ipynb\" target=\"_parent\"><img src=\"https://colab.research.google.com/assets/colab-badge.svg\" alt=\"Open In Colab\"/></a>"
      ]
    },
    {
      "cell_type": "code",
      "execution_count": 1,
      "metadata": {
        "id": "zv4fOUIt0pAr"
      },
      "outputs": [],
      "source": [
        "import cv2\n",
        "import numpy as np"
      ]
    },
    {
      "cell_type": "code",
      "source": [
        "!gdown -q 14gf8bcym_lTcvjZQmg8kwq3aXkENBxMQ\n",
        "!gdown -q 1wxmiUdqMciuTOs0ouKEISl8-iTVXdOWn"
      ],
      "metadata": {
        "id": "Nheru0mU3PF6"
      },
      "execution_count": 2,
      "outputs": []
    },
    {
      "cell_type": "code",
      "source": [
        "!unzip -q 'Aloe_images.zip'\n",
        "!unzip -q 'tsukuba.zip'"
      ],
      "metadata": {
        "colab": {
          "base_uri": "https://localhost:8080/"
        },
        "id": "Dr0nB4TM3eYp",
        "outputId": "5d0e99f4-3f2c-465f-c32a-d342d098e127"
      },
      "execution_count": 3,
      "outputs": [
        {
          "output_type": "stream",
          "name": "stdout",
          "text": [
            "warning:  stripped absolute path spec from /\n",
            "mapname:  conversion of  failed\n"
          ]
        }
      ]
    },
    {
      "cell_type": "code",
      "source": [
        "def l1_distance(x, y):\n",
        "    return abs(x - y)\n",
        "\n",
        "def l2_distance(x, y):\n",
        "    return (x - y) ** 2\n",
        "\n",
        "def pixel_wise_matching_l1(left_img, right_img, disparity_range, save_result = True):\n",
        "    left = cv2.imread(left_img, 0)\n",
        "    right = cv2.imread(right_img, 0)\n",
        "\n",
        "    left = left.astype(np.float32)\n",
        "    right = right.astype(np.float32)\n",
        "\n",
        "    height, width = left.shape[:2]\n",
        "\n",
        "    depth = np.zeros((height, width), np.uint8)\n",
        "    scale = 16\n",
        "    max_value = 255\n",
        "\n",
        "    for y in range(height):\n",
        "        for x in range(width):\n",
        "            disparity = 0\n",
        "            cost_min = max_value\n",
        "\n",
        "        for j in range(disparity_range):\n",
        "            cost = max_value if (x - j) < 0 else l1_distance(int(left[y, x]), int(right[y, x - j]))\n",
        "\n",
        "            if cost < cost_min:\n",
        "                cost_min = cost\n",
        "                disparity = j\n",
        "\n",
        "        depth[y, x]  = disparity * scale\n",
        "\n",
        "    if save_result == True:\n",
        "        print('Saving result...')\n",
        "        cv2.imwrite(f'pixel_wise_l1.png', depth)\n",
        "        cv2.imwrite(f'pixel_wise_l1_color.png', cv2.applyColorMap(depth, cv2.COLORMAP_JET))\n",
        "\n",
        "    print('Done')\n",
        "    return depth\n",
        "\n",
        "def pixel_wise_matching_l2(left_img, right_img, disparity_range, save_result = True):\n",
        "    left = cv2.imread(left_img, 0)\n",
        "    right = cv2.imread(right_img, 0)\n",
        "\n",
        "    left = left.astype(np.float32)\n",
        "    right = right.astype(np.float32)\n",
        "\n",
        "    height, width = left.shape[:2]\n",
        "\n",
        "    depth = np.zeros((height, width), np.uint8)\n",
        "    scale = 16\n",
        "    max_value = 255\n",
        "\n",
        "    for y in range(height):\n",
        "        for x in range(width):\n",
        "            disparity = 0\n",
        "            cost_min = max_value\n",
        "\n",
        "        for j in range(disparity_range):\n",
        "            cost = max_value if (x - j) < 0 else l2_distance(int(left[y, x]), int(right[y, x - j]))\n",
        "\n",
        "            if cost < cost_min:\n",
        "                cost_min = cost\n",
        "                disparity = j\n",
        "\n",
        "        depth[y, x]  = disparity * scale\n",
        "\n",
        "    if save_result == True:\n",
        "        print('Saving result...')\n",
        "        cv2.imwrite(f'pixel_wise_l2.png', depth)\n",
        "        cv2.imwrite(f'pixel_wise_l2_color.png', cv2.applyColorMap(depth, cv2.COLORMAP_JET))\n",
        "\n",
        "    print('Done')\n",
        "    return depth"
      ],
      "metadata": {
        "id": "buaF9-ig1zTM"
      },
      "execution_count": 5,
      "outputs": []
    },
    {
      "cell_type": "code",
      "source": [
        "left_img_path = 'left.png'\n",
        "right_img_path = 'right.png'\n",
        "disparity_range = 16\n",
        "\n",
        "pixel_wise_result_l1 = pixel_wise_matching_l1(left_img_path,\n",
        "                               right_img_path,\n",
        "                               disparity_range,\n",
        "                               save_result=True)\n",
        "\n",
        "pixel_wise_result_l2 = pixel_wise_matching_l2(left_img_path,\n",
        "                               right_img_path,\n",
        "                               disparity_range,\n",
        "                               save_result=True)"
      ],
      "metadata": {
        "colab": {
          "base_uri": "https://localhost:8080/"
        },
        "id": "Vou1-Lj-32nK",
        "outputId": "ab51de54-c4cd-42d2-dae3-1848e2bcfa12"
      },
      "execution_count": 6,
      "outputs": [
        {
          "output_type": "stream",
          "name": "stdout",
          "text": [
            "Saving result...\n",
            "Done\n",
            "Saving result...\n",
            "Done\n"
          ]
        }
      ]
    },
    {
      "cell_type": "code",
      "source": [
        "def window_based_matching_l1(left_img, right_img, disparity_range, kernel_size = 5, save_result = True):\n",
        "    left = cv2.imread(left_img, 0)\n",
        "    right = cv2.imread(right_img, 0)\n",
        "\n",
        "    left = left.astype(np.float32)\n",
        "    right = right.astype(np.float32)\n",
        "\n",
        "    height, width = left.shape[:2]\n",
        "\n",
        "    depth = np.zeros((height, width), np.uint8)\n",
        "\n",
        "    kernel_half = int((kernel_size - 1) / 2)\n",
        "    scale = 3\n",
        "    max_value = 255 * 9\n",
        "\n",
        "    for y in range(kernel_half, height - kernel_half):\n",
        "        for x in range(kernel_half, width - kernel_half):\n",
        "            disparity = 0\n",
        "            cost_min = 65534\n",
        "\n",
        "            for j in range(disparity_range):\n",
        "                total = 0\n",
        "                value = 0\n",
        "\n",
        "                for v in range(-kernel_half, kernel_half + 1):\n",
        "                    for u in range(-kernel_half, kernel_half + 1):\n",
        "                        value = max_value\n",
        "                        if (x + u - j) >= 0:\n",
        "                            value = l1_distance(int(left[y+v, x+u]), int(right[y+v, (x + u) - j]))\n",
        "                        total += value\n",
        "\n",
        "                    if total < cost_min:\n",
        "                        cost_min = total\n",
        "                        disparity = j\n",
        "\n",
        "                depth[y, x] = disparity * scale\n",
        "\n",
        "            if save_result == True:\n",
        "                print('Saving results...')\n",
        "                cv2.imwrite(f'window_based_l1.png', depth)\n",
        "                cv2.imwrite(f'window_based_l1_color.png', cv2.applyColorMap(depth, cv2.COLORMAP_JET))\n",
        "\n",
        "            print('Done')\n",
        "            return depth\n",
        "\n",
        "def window_based_matching_l2(left_img, right_img, disparity_range, kernel_size = 5, save_result = True):\n",
        "    left = cv2.imread(left_img, 0)\n",
        "    right = cv2.imread(right_img, 0)\n",
        "\n",
        "    left = left.astype(np.float32)\n",
        "    right = right.astype(np.float32)\n",
        "\n",
        "    height, width = left.shape[:2]\n",
        "\n",
        "    depth = np.zeros((height, width), np.uint8)\n",
        "\n",
        "    kernel_half = int((kernel_size - 1) / 2)\n",
        "    scale = 3\n",
        "    max_value = 255 * 9\n",
        "\n",
        "    for y in range(kernel_half, height - kernel_half):\n",
        "        for x in range(kernel_half, width - kernel_half):\n",
        "            disparity = 0\n",
        "            cost_min = 65534\n",
        "\n",
        "            for j in range(disparity_range):\n",
        "                total = 0\n",
        "                value = 0\n",
        "\n",
        "                for v in range(-kernel_half, kernel_half + 1):\n",
        "                    for u in range(-kernel_half, kernel_half + 1):\n",
        "                        value = max_value\n",
        "                        if (x + u - j) >= 0:\n",
        "                            value = l2_distance(int(left[y+v, x+u]), int(right[y+v, (x + u) - j]))\n",
        "                        total += value\n",
        "\n",
        "                    if total < cost_min:\n",
        "                        cost_min = total\n",
        "                        disparity = j\n",
        "\n",
        "                depth[y, x] = disparity * scale\n",
        "\n",
        "            if save_result == True:\n",
        "                print('Saving results...')\n",
        "                cv2.imwrite(f'window_based_l2.png', depth)\n",
        "                cv2.imwrite(f'window_based_l2_color.png', cv2.applyColorMap(depth, cv2.COLORMAP_JET))\n",
        "\n",
        "            print('Done')\n",
        "            return depth"
      ],
      "metadata": {
        "id": "wRaqL4jS5OwL"
      },
      "execution_count": 14,
      "outputs": []
    },
    {
      "cell_type": "code",
      "source": [
        "left_img_path = '/content/Aloe/Aloe_left_1.png'\n",
        "right_img_path = '/content/Aloe/Aloe_right_1.png'\n",
        "disparity_range = 64\n",
        "kernel_size = 3\n",
        "\n",
        "window_based_result = window_based_matching_l1(\n",
        "    left_img_path,\n",
        "    right_img_path,\n",
        "    disparity_range,\n",
        "    kernel_size = kernel_size,\n",
        "    save_result = True\n",
        ")\n",
        "\n",
        "window_based_result = window_based_matching_l2(\n",
        "    left_img_path,\n",
        "    right_img_path,\n",
        "    disparity_range,\n",
        "    kernel_size = kernel_size,\n",
        "    save_result = True\n",
        ")"
      ],
      "metadata": {
        "colab": {
          "base_uri": "https://localhost:8080/"
        },
        "id": "J9pMabMu6-Ph",
        "outputId": "503309f8-0fd5-471c-eb3b-607de4db8330"
      },
      "execution_count": 15,
      "outputs": [
        {
          "output_type": "stream",
          "name": "stdout",
          "text": [
            "Saving results...\n",
            "Done\n",
            "Saving results...\n",
            "Done\n"
          ]
        }
      ]
    },
    {
      "cell_type": "code",
      "source": [
        "def cosine_similarity(x, y):\n",
        "    numerator = np.dot(x, y)\n",
        "    denominator = np.linalg.norm(x) * np.linalg.norm(y)\n",
        "    return numerator / denominator\n",
        "\n",
        "def window_based_matching(left_img, right_img, disparity_range, kernel_size = 5, save_result = True):\n",
        "    left = cv2.imread(left_img, 0)\n",
        "    right = cv2.imread(right_img, 0)\n",
        "\n",
        "    left = left.astype(np.float32)\n",
        "    right = right.astype(np.float32)\n",
        "\n",
        "    height, width = left.shape[:2]\n",
        "\n",
        "    depth = np.zeros((height, width), np.uint8)\n",
        "\n",
        "    kernel_half = int((kernel_size - 1) / 2)\n",
        "    scale = 3\n",
        "\n",
        "    for y in range(kernel_half, height - kernel_half):\n",
        "        for x in range(kernel_half, width - kernel_half):\n",
        "            disparity = 0\n",
        "            cost_optimal = -1\n",
        "\n",
        "            for j in range(disparity_range):\n",
        "                d = x - j\n",
        "                cost = -1\n",
        "\n",
        "                for j in range(disparity_range):\n",
        "                    d = x - j\n",
        "                    cost = -1\n",
        "                    if (d - kernel_half) > 0:\n",
        "                        wp = left[(y - kernel_half):(y + kernel_half + 1), (x - kernel_half):(x + kernel_half + 1)]\n",
        "                        wqd = right[(y - kernel_half):(y + kernel_half + 1), (d - kernel_half):(d + kernel_half + 1)]\n",
        "                        cost = cosine_similarity(wp.flatten(), wqd.flatten())\n",
        "\n",
        "                    if cost > cost_optimal:\n",
        "                        cost_optimal = cost\n",
        "                        disparity = j\n",
        "\n",
        "                depth[y, x] = disparity * scale\n",
        "\n",
        "            if save_result == True:\n",
        "                print('Saving results...')\n",
        "                cv2.imwrite(f'window_based_cosine_similarity.png', depth)\n",
        "                cv2.imwrite(f'window_based_cosine_similarity_color.png', cv2.applyColorMap(depth, cv2.COLORMAP_JET))\n",
        "\n",
        "            print('Done')\n",
        "            return depth"
      ],
      "metadata": {
        "id": "ah7bdQ0_7nqp"
      },
      "execution_count": 16,
      "outputs": []
    }
  ]
}